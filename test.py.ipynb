{
 "cells": [
  {
   "cell_type": "code",
   "id": "initial_id",
   "metadata": {
    "collapsed": true,
    "ExecuteTime": {
     "end_time": "2025-03-23T14:50:14.186063Z",
     "start_time": "2025-03-23T14:50:13.674940Z"
    }
   },
   "source": [
    "# load session etc.\n",
    "\n",
    "from database.session import session\n",
    "from database.models import Asset"
   ],
   "outputs": [
    {
     "ename": "ModuleNotFoundError",
     "evalue": "No module named 'config'",
     "output_type": "error",
     "traceback": [
      "\u001B[0;31m---------------------------------------------------------------------------\u001B[0m",
      "\u001B[0;31mModuleNotFoundError\u001B[0m                       Traceback (most recent call last)",
      "Cell \u001B[0;32mIn[2], line 3\u001B[0m\n\u001B[1;32m      1\u001B[0m \u001B[38;5;66;03m# load session etc.\u001B[39;00m\n\u001B[0;32m----> 3\u001B[0m \u001B[38;5;28;01mfrom\u001B[39;00m \u001B[38;5;21;01mdatabase\u001B[39;00m\u001B[38;5;21;01m.\u001B[39;00m\u001B[38;5;21;01msession\u001B[39;00m \u001B[38;5;28;01mimport\u001B[39;00m session\n\u001B[1;32m      4\u001B[0m \u001B[38;5;28;01mfrom\u001B[39;00m \u001B[38;5;21;01mdatabase\u001B[39;00m\u001B[38;5;21;01m.\u001B[39;00m\u001B[38;5;21;01mmodels\u001B[39;00m \u001B[38;5;28;01mimport\u001B[39;00m Asset\n",
      "File \u001B[0;32m~/PycharmProjects/Bachelor/database/session.py:2\u001B[0m\n\u001B[1;32m      1\u001B[0m \u001B[38;5;28;01mfrom\u001B[39;00m \u001B[38;5;21;01msqlalchemy\u001B[39;00m\u001B[38;5;21;01m.\u001B[39;00m\u001B[38;5;21;01morm\u001B[39;00m \u001B[38;5;28;01mimport\u001B[39;00m sessionmaker\n\u001B[0;32m----> 2\u001B[0m \u001B[38;5;28;01mfrom\u001B[39;00m \u001B[38;5;21;01mconfig\u001B[39;00m \u001B[38;5;28;01mimport\u001B[39;00m engine\n\u001B[1;32m      4\u001B[0m Session \u001B[38;5;241m=\u001B[39m sessionmaker(bind\u001B[38;5;241m=\u001B[39mengine)\n\u001B[1;32m      5\u001B[0m session \u001B[38;5;241m=\u001B[39m Session()\n",
      "\u001B[0;31mModuleNotFoundError\u001B[0m: No module named 'config'"
     ]
    }
   ],
   "execution_count": 2
  },
  {
   "metadata": {
    "ExecuteTime": {
     "end_time": "2025-03-20T18:37:50.607672Z",
     "start_time": "2025-03-20T18:37:50.055206Z"
    }
   },
   "cell_type": "code",
   "source": "print('hello')",
   "id": "2577756211ad2835",
   "outputs": [
    {
     "data": {
      "text/plain": [
       "'USD'"
      ]
     },
     "execution_count": 3,
     "metadata": {},
     "output_type": "execute_result"
    }
   ],
   "execution_count": 3
  },
  {
   "metadata": {
    "ExecuteTime": {
     "end_time": "2025-03-27T07:56:05.239440Z",
     "start_time": "2025-03-27T07:56:05.234696Z"
    }
   },
   "cell_type": "code",
   "source": [
    "string = 'asdsdaUSDCHF.csv'\n",
    "\n",
    "print(string[-10:-7])\n",
    "string[-7:-4]"
   ],
   "id": "f7b578330584b859",
   "outputs": [
    {
     "name": "stdout",
     "output_type": "stream",
     "text": [
      "USD\n"
     ]
    },
    {
     "data": {
      "text/plain": [
       "'CHF'"
      ]
     },
     "execution_count": 6,
     "metadata": {},
     "output_type": "execute_result"
    }
   ],
   "execution_count": 6
  },
  {
   "metadata": {
    "ExecuteTime": {
     "end_time": "2025-03-27T08:06:32.830030Z",
     "start_time": "2025-03-27T08:06:32.785945Z"
    }
   },
   "cell_type": "code",
   "source": [
    "import pandas as pd\n",
    "\n",
    "pd.read_csv('database/AUDUSD.csv')\n",
    "\n",
    "# get working directory\n",
    "\n",
    "import os\n",
    "cwd = os.getcwd()\n",
    "\n",
    "print(cwd)"
   ],
   "id": "1876772f5752ec28",
   "outputs": [
    {
     "name": "stdout",
     "output_type": "stream",
     "text": [
      "/Users/fabianblaser/PycharmProjects/Bachelor\n"
     ]
    }
   ],
   "execution_count": 9
  },
  {
   "metadata": {
    "ExecuteTime": {
     "end_time": "2025-03-27T09:49:17.878029Z",
     "start_time": "2025-03-27T09:49:17.852936Z"
    }
   },
   "cell_type": "code",
   "source": [
    "from database.insert_data_functions import *\n",
    "\n",
    "prov = Provider(name = 'yahoo',provider_id = 99997)\n",
    "session.add(prov)\n",
    "session.commit()"
   ],
   "id": "486d21f7a1d82ca",
   "outputs": [],
   "execution_count": 11
  }
 ],
 "metadata": {
  "kernelspec": {
   "display_name": "Python 3",
   "language": "python",
   "name": "python3"
  },
  "language_info": {
   "codemirror_mode": {
    "name": "ipython",
    "version": 2
   },
   "file_extension": ".py",
   "mimetype": "text/x-python",
   "name": "python",
   "nbconvert_exporter": "python",
   "pygments_lexer": "ipython2",
   "version": "2.7.6"
  }
 },
 "nbformat": 4,
 "nbformat_minor": 5
}
