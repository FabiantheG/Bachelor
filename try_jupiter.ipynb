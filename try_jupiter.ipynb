{
 "cells": [
  {
   "cell_type": "code",
   "id": "initial_id",
   "metadata": {
    "collapsed": true,
    "ExecuteTime": {
     "end_time": "2025-05-08T06:59:01.698408Z",
     "start_time": "2025-05-08T06:58:57.575252Z"
    }
   },
   "source": [
    "from database.functions import *\n",
    "from database.session import session\n",
    "import pandas as pd\n",
    "import numpy as np"
   ],
   "outputs": [],
   "execution_count": 1
  },
  {
   "metadata": {
    "ExecuteTime": {
     "end_time": "2025-05-08T07:06:03.173101Z",
     "start_time": "2025-05-08T07:06:03.149933Z"
    }
   },
   "cell_type": "code",
   "source": [
    "\n",
    "name = 'portfolio1'\n",
    "\n",
    "\n",
    "\n",
    "print(assets)\n",
    "print(weights)"
   ],
   "id": "7a02090693a2089a",
   "outputs": [
    {
     "name": "stdout",
     "output_type": "stream",
     "text": [
      "['MSCI_UK', 'MSCI_USA']\n",
      "[0.5, 0.5]\n"
     ]
    }
   ],
   "execution_count": 7
  }
 ],
 "metadata": {
  "kernelspec": {
   "display_name": "Python 3",
   "language": "python",
   "name": "python3"
  },
  "language_info": {
   "codemirror_mode": {
    "name": "ipython",
    "version": 2
   },
   "file_extension": ".py",
   "mimetype": "text/x-python",
   "name": "python",
   "nbconvert_exporter": "python",
   "pygments_lexer": "ipython2",
   "version": "2.7.6"
  }
 },
 "nbformat": 4,
 "nbformat_minor": 5
}
