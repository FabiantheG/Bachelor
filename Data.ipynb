{
 "cells": [
  {
   "metadata": {
    "ExecuteTime": {
     "end_time": "2025-05-28T14:41:23.641971Z",
     "start_time": "2025-05-28T14:41:21.446206Z"
    }
   },
   "cell_type": "code",
   "source": [
    "\n",
    "from simulation.functions import *\n",
    "\n",
    "\n",
    "\n",
    "base = 'USD'\n",
    "portfolio_name = 'portfolio' + base\n",
    "\n",
    "data = get_portfolio_data(portfolio_name,base)\n",
    "\n",
    "\n",
    "\n",
    "factors = data[6]\n",
    "factors.to_csv('factors.csv')"
   ],
   "id": "91d6c658c5f4c7d6",
   "outputs": [],
   "execution_count": 99
  },
  {
   "metadata": {
    "ExecuteTime": {
     "end_time": "2025-05-28T08:34:48.564515Z",
     "start_time": "2025-05-28T08:34:48.534687Z"
    }
   },
   "cell_type": "code",
   "source": [
    "import pandas as pd\n",
    "\n",
    "\n",
    "df = pd.read_csv('factors.csv')\n",
    "df['date'] = pd.to_datetime(df['date'], format='%d.%m.%Y')\n",
    "df.set_index('date', inplace=True)\n",
    "df['dollar_shift'] = df['dollar'].shift(-1)\n",
    "df['carry_shift'] = df['carry'].shift(-1)\n",
    "\n",
    "df = df.dropna()\n",
    "\n",
    "df = pd.concat([df,df_hedge],axis = 1,join = 'inner')\n",
    "predictors = df[['volatility','afd','commodity','ted']]\n",
    "predictors_factors = df[['dollar','carry']]\n",
    "\n",
    "dollar = df[['dollar_shift']]\n",
    "carry = df[['carry_shift']]\n",
    "\n",
    "CHF = df[['CHF']]\n",
    "SEK = df[['SEK']]\n",
    "NOK = df[['NOK']]\n",
    "NZD = df[['NZD']]\n",
    "AUD = df[['AUD']]\n",
    "EUR = df[['EUR']]\n",
    "GBP = df[['GBP']]\n",
    "JPY = df[['JPY']]\n",
    "CAD = df[['CAD']]\n",
    "\n"
   ],
   "id": "3d6e2dd6d63c7251",
   "outputs": [],
   "execution_count": 94
  },
  {
   "metadata": {
    "ExecuteTime": {
     "end_time": "2025-05-28T14:05:38.696657Z",
     "start_time": "2025-05-28T14:05:38.370887Z"
    }
   },
   "cell_type": "code",
   "source": [
    "import statsmodels.api as sm\n",
    "import pandas as pd\n",
    "\n",
    "# Rolling OLS über multiple Fenster und p-Wert-Erfassung\n",
    "import statsmodels.api as sm\n",
    "import pandas as pd\n",
    "\n",
    "def rolling_ols_avg_pvalues(ziel, pred, window=60):\n",
    "    pvalues_list = []\n",
    "    r2_list = []\n",
    "\n",
    "    for t in range(len(ziel) - window + 1):\n",
    "        window_pred = pred.iloc[t:t+window].copy()\n",
    "        window_ziel = ziel.iloc[t:t+window].copy()\n",
    "\n",
    "        # Add constant (Intercept)\n",
    "        X = sm.add_constant(window_pred)\n",
    "        y = window_ziel\n",
    "\n",
    "        # Fit model\n",
    "        model = sm.OLS(y, X).fit()\n",
    "\n",
    "        # Save p-values and R²\n",
    "        pvalues_list.append(model.pvalues)\n",
    "        r2_list.append(model.rsquared)\n",
    "\n",
    "    # Combine all p-values into DataFrame\n",
    "    pval_df = pd.DataFrame(pvalues_list, index=ziel.index[window-1:])\n",
    "    mean_pvals = pval_df.mean()\n",
    "\n",
    "    x = r2_list\n",
    "    # carry\n",
    "    R = sum(x)/ len(x)\n",
    "\n",
    "    return mean_pvals, pval_df, R\n",
    "\n",
    "# Anwendung auf dein DataFrame\n",
    "# Beispiel: factorsUSD muss vorher existieren\n",
    "mean_pvalues, all_pvalues, R = rolling_ols_avg_pvalues(dollar,predictors)\n",
    "\n",
    "# Ausgabe\n",
    "print(\"Durchschnittliche p-Werte über alle Fenster:\")\n",
    "print(mean_pvalues)\n",
    "\n",
    "print('durchscnittlicher R^2:',R)"
   ],
   "id": "5201513ffd5ec53d",
   "outputs": [
    {
     "name": "stdout",
     "output_type": "stream",
     "text": [
      "Durchschnittliche p-Werte über alle Fenster:\n",
      "const         0.533299\n",
      "volatility    0.525830\n",
      "afd           0.372355\n",
      "commodity     0.350143\n",
      "ted           0.605860\n",
      "dtype: float64\n",
      "durchscnittlicher R^2: 0.08287976689134922\n"
     ]
    }
   ],
   "execution_count": 96
  },
  {
   "metadata": {
    "ExecuteTime": {
     "end_time": "2025-05-28T08:27:11.585175Z",
     "start_time": "2025-05-28T08:27:11.577348Z"
    }
   },
   "cell_type": "code",
   "outputs": [],
   "execution_count": 89,
   "source": [
    "import shap\n",
    "import xgboost as xgb\n",
    "import pandas as pd\n",
    "import numpy as np\n",
    "\n",
    "def rolling_xgboost_shap(ziel, pred, window=60, params=None):\n",
    "    if params is None:\n",
    "        params = {\"n_estimators\": 100, \"max_depth\": 2, \"learning_rate\": 0.5}\n",
    "\n",
    "    shap_list = []\n",
    "    r2_list = []\n",
    "\n",
    "    for t in range(len(ziel) - window + 1):\n",
    "        # Rolling Window\n",
    "        X_window = pred.iloc[t:t+window]\n",
    "        y_window = ziel.iloc[t:t+window]\n",
    "\n",
    "        # Modell trainieren\n",
    "        model = xgb.XGBRegressor(**params)\n",
    "        model.fit(X_window, y_window)\n",
    "\n",
    "        # SHAP-Werte berechnen\n",
    "        explainer = shap.TreeExplainer(model)\n",
    "        shap_values = explainer.shap_values(X_window)\n",
    "\n",
    "        # Mittelwert der absoluten SHAP-Werte pro Feature\n",
    "        shap_mean = np.abs(shap_values).mean(axis=0)\n",
    "        shap_list.append(shap_mean)\n",
    "\n",
    "        # Optional: Modellgüte (R²)\n",
    "        r2 = model.score(X_window, y_window)\n",
    "        r2_list.append(r2)\n",
    "\n",
    "    # DataFrame: SHAP-Werte im Zeitverlauf\n",
    "    shap_df = pd.DataFrame(shap_list, columns=pred.columns, index=ziel.index[window-1:])\n",
    "    shap_avg = shap_df.mean()\n",
    "\n",
    "    # Durchschnittliches R²\n",
    "    r2_avg = np.mean(r2_list)\n",
    "\n",
    "    return shap_avg, shap_df, r2_avg"
   ],
   "id": "6d1cce65d008feec"
  },
  {
   "metadata": {
    "ExecuteTime": {
     "end_time": "2025-05-28T14:06:09.903145Z",
     "start_time": "2025-05-28T14:06:01.736926Z"
    }
   },
   "cell_type": "code",
   "source": [
    "shap_avg, shap_over_time, r2_mean = rolling_xgboost_shap(dollar, predictors)\n",
    "\n",
    "print(\"⏱ Durchschnittliche SHAP-Werte:\")\n",
    "print(shap_avg)\n",
    "\n",
    "print(f\"📈 Durchschnittliches R²: {r2_mean:.4f}\")"
   ],
   "id": "3e33dbd30eff0cfc",
   "outputs": [
    {
     "name": "stdout",
     "output_type": "stream",
     "text": [
      "⏱ Durchschnittliche SHAP-Werte:\n",
      "volatility    0.005794\n",
      "afd           0.004272\n",
      "commodity     0.004749\n",
      "ted           0.004347\n",
      "dtype: float32\n",
      "📈 Durchschnittliches R²: 0.9951\n"
     ]
    }
   ],
   "execution_count": 97
  }
 ],
 "metadata": {
  "kernelspec": {
   "display_name": "Python 3",
   "language": "python",
   "name": "python3"
  },
  "language_info": {
   "codemirror_mode": {
    "name": "ipython",
    "version": 2
   },
   "file_extension": ".py",
   "mimetype": "text/x-python",
   "name": "python",
   "nbconvert_exporter": "python",
   "pygments_lexer": "ipython2",
   "version": "2.7.6"
  }
 },
 "nbformat": 4,
 "nbformat_minor": 5
}
