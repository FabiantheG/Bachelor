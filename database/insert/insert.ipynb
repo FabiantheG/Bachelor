{
 "cells": [
  {
   "cell_type": "code",
   "id": "initial_id",
   "metadata": {
    "collapsed": true,
    "ExecuteTime": {
     "end_time": "2025-03-24T13:51:52.275459Z",
     "start_time": "2025-03-24T13:51:52.259230Z"
    }
   },
   "source": [
    "\n",
    "from database.session import session\n",
    "from database.models import *\n",
    "\n",
    "def insert_yahoo_db(ticker, start, end):\n",
    "    provider = 1\n",
    "    data = get_asset(ticker, start, end)\n",
    "\n",
    "\n",
    "    with session:\n",
    "        with session.begin():\n",
    "            existing_asset = session.query(Asset).filter_by(asset_ticker=ticker).first()\n",
    "\n",
    "            if not existing_asset:\n",
    "                yfinance = yf.Ticker(ticker)\n",
    "                currency = yfinance.info.get('currency')\n",
    "                asset =  Asset(currency = currency , asset_ticker=ticker)\n",
    "                session.add(asset)\n",
    "\n",
    "            ref = Asset_Ref(provider_id=provider, asset_ticker=ticker)\n",
    "            session.add(ref)\n",
    "            session.flush()  # sorgt dafür, dass ref.series_id generiert und verfügbar wird\n",
    "\n",
    "\n",
    "            # Erstelle eine Liste von Mappings (Dictionaries) für den Bulk Insert\n",
    "            asset_ts_mappings = []\n",
    "            for _, row in data.iterrows():\n",
    "                asset_ts_mappings.append({\n",
    "                    \"date\": row['Date'],     # Datum aus der DataFrame-Spalte 'Date'\n",
    "                    \"close\": row['Close'],   # Schlusskurs aus der Spalte 'Close'\n",
    "                    \"series_id\": ref.series_id\n",
    "                })\n",
    "\n",
    "            # Führe den Bulk Insert in die Tabelle ASSET_TS aus\n",
    "            session.bulk_insert_mappings(Asset_TS, asset_ts_mappings)"
   ],
   "outputs": [],
   "execution_count": 24
  },
  {
   "metadata": {
    "ExecuteTime": {
     "end_time": "2025-03-24T13:21:54.527682Z",
     "start_time": "2025-03-24T13:21:54.510105Z"
    }
   },
   "cell_type": "code",
   "source": [
    "prov = Provider(name = 'yahoo',provider_id = 122)\n",
    "session.add(prov)\n",
    "session.commit()"
   ],
   "id": "20850328dc86563f",
   "outputs": [],
   "execution_count": 16
  },
  {
   "metadata": {
    "ExecuteTime": {
     "end_time": "2025-03-24T13:51:53.749710Z",
     "start_time": "2025-03-24T13:51:53.656924Z"
    }
   },
   "cell_type": "code",
   "source": "insert_yahoo_db(\"AAPL\", start=\"2025-01-05\", end=\"2025-01-15\")",
   "id": "3e0e947563db7f19",
   "outputs": [],
   "execution_count": 25
  }
 ],
 "metadata": {
  "kernelspec": {
   "display_name": "Python 3",
   "language": "python",
   "name": "python3"
  },
  "language_info": {
   "codemirror_mode": {
    "name": "ipython",
    "version": 2
   },
   "file_extension": ".py",
   "mimetype": "text/x-python",
   "name": "python",
   "nbconvert_exporter": "python",
   "pygments_lexer": "ipython2",
   "version": "2.7.6"
  }
 },
 "nbformat": 4,
 "nbformat_minor": 5
}
