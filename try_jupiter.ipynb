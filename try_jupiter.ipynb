{
 "cells": [
  {
   "cell_type": "code",
   "id": "initial_id",
   "metadata": {
    "collapsed": true,
    "ExecuteTime": {
     "end_time": "2025-05-16T12:37:30.887582Z",
     "start_time": "2025-05-16T12:37:30.847628Z"
    }
   },
   "source": [
    "from database.functions import get_factor, create_carry_factor\n",
    "from database.functions import *\n",
    "from simulation.functions import *\n",
    "import pandas as pd\n",
    "list = []\n",
    "dollar = get_factor('dollar')\n",
    "carry = get_factor('carry')\n",
    "\n",
    "list.append(dollar)\n",
    "list.append(carry)\n",
    "\n",
    "x = pd.concat(list,  join = 'inner')\n",
    "x\n"
   ],
   "outputs": [
    {
     "data": {
      "text/plain": [
       "                rate\n",
       "date                \n",
       "1999-12-31 -0.031390\n",
       "2000-01-31 -0.014326\n",
       "2000-02-29  0.009558\n",
       "2000-03-31 -0.036869\n",
       "2000-04-30 -0.006947\n",
       "...              ...\n",
       "2024-12-31 -0.000608\n",
       "2025-01-31 -0.007681\n",
       "2025-02-28 -0.007790\n",
       "2025-03-31  0.023784\n",
       "2025-04-30  0.004620\n",
       "\n",
       "[608 rows x 1 columns]"
      ],
      "text/html": [
       "<div>\n",
       "<style scoped>\n",
       "    .dataframe tbody tr th:only-of-type {\n",
       "        vertical-align: middle;\n",
       "    }\n",
       "\n",
       "    .dataframe tbody tr th {\n",
       "        vertical-align: top;\n",
       "    }\n",
       "\n",
       "    .dataframe thead th {\n",
       "        text-align: right;\n",
       "    }\n",
       "</style>\n",
       "<table border=\"1\" class=\"dataframe\">\n",
       "  <thead>\n",
       "    <tr style=\"text-align: right;\">\n",
       "      <th></th>\n",
       "      <th>rate</th>\n",
       "    </tr>\n",
       "    <tr>\n",
       "      <th>date</th>\n",
       "      <th></th>\n",
       "    </tr>\n",
       "  </thead>\n",
       "  <tbody>\n",
       "    <tr>\n",
       "      <th>1999-12-31</th>\n",
       "      <td>-0.031390</td>\n",
       "    </tr>\n",
       "    <tr>\n",
       "      <th>2000-01-31</th>\n",
       "      <td>-0.014326</td>\n",
       "    </tr>\n",
       "    <tr>\n",
       "      <th>2000-02-29</th>\n",
       "      <td>0.009558</td>\n",
       "    </tr>\n",
       "    <tr>\n",
       "      <th>2000-03-31</th>\n",
       "      <td>-0.036869</td>\n",
       "    </tr>\n",
       "    <tr>\n",
       "      <th>2000-04-30</th>\n",
       "      <td>-0.006947</td>\n",
       "    </tr>\n",
       "    <tr>\n",
       "      <th>...</th>\n",
       "      <td>...</td>\n",
       "    </tr>\n",
       "    <tr>\n",
       "      <th>2024-12-31</th>\n",
       "      <td>-0.000608</td>\n",
       "    </tr>\n",
       "    <tr>\n",
       "      <th>2025-01-31</th>\n",
       "      <td>-0.007681</td>\n",
       "    </tr>\n",
       "    <tr>\n",
       "      <th>2025-02-28</th>\n",
       "      <td>-0.007790</td>\n",
       "    </tr>\n",
       "    <tr>\n",
       "      <th>2025-03-31</th>\n",
       "      <td>0.023784</td>\n",
       "    </tr>\n",
       "    <tr>\n",
       "      <th>2025-04-30</th>\n",
       "      <td>0.004620</td>\n",
       "    </tr>\n",
       "  </tbody>\n",
       "</table>\n",
       "<p>608 rows × 1 columns</p>\n",
       "</div>"
      ]
     },
     "execution_count": 14,
     "metadata": {},
     "output_type": "execute_result"
    }
   ],
   "execution_count": 14
  },
  {
   "metadata": {
    "ExecuteTime": {
     "end_time": "2025-05-16T11:29:41.207071Z",
     "start_time": "2025-05-16T11:29:41.196776Z"
    }
   },
   "cell_type": "code",
   "source": [
    "list  = []\n",
    "\n",
    "list.append(0)\n",
    "\n",
    "list"
   ],
   "id": "798983c5380fa8ce",
   "outputs": [
    {
     "data": {
      "text/plain": [
       "[0]"
      ]
     },
     "execution_count": 4,
     "metadata": {},
     "output_type": "execute_result"
    }
   ],
   "execution_count": 4
  },
  {
   "metadata": {
    "ExecuteTime": {
     "end_time": "2025-05-16T11:23:30.365715Z",
     "start_time": "2025-05-16T11:23:30.319566Z"
    }
   },
   "cell_type": "code",
   "source": "get_factor('dollarUSD')",
   "id": "af6220a6f8867166",
   "outputs": [
    {
     "data": {
      "text/plain": [
       "                rate\n",
       "date                \n",
       "2000-01-31  0.031383\n",
       "2000-02-29  0.013966\n",
       "2000-03-31 -0.009587\n",
       "2000-04-30  0.037307\n",
       "2000-05-31  0.006876\n",
       "...              ...\n",
       "2024-12-31  0.032047\n",
       "2025-01-31 -0.000895\n",
       "2025-02-28 -0.009551\n",
       "2025-03-31 -0.027505\n",
       "2025-04-30  0.006394\n",
       "\n",
       "[304 rows x 1 columns]"
      ],
      "text/html": [
       "<div>\n",
       "<style scoped>\n",
       "    .dataframe tbody tr th:only-of-type {\n",
       "        vertical-align: middle;\n",
       "    }\n",
       "\n",
       "    .dataframe tbody tr th {\n",
       "        vertical-align: top;\n",
       "    }\n",
       "\n",
       "    .dataframe thead th {\n",
       "        text-align: right;\n",
       "    }\n",
       "</style>\n",
       "<table border=\"1\" class=\"dataframe\">\n",
       "  <thead>\n",
       "    <tr style=\"text-align: right;\">\n",
       "      <th></th>\n",
       "      <th>rate</th>\n",
       "    </tr>\n",
       "    <tr>\n",
       "      <th>date</th>\n",
       "      <th></th>\n",
       "    </tr>\n",
       "  </thead>\n",
       "  <tbody>\n",
       "    <tr>\n",
       "      <th>2000-01-31</th>\n",
       "      <td>0.031383</td>\n",
       "    </tr>\n",
       "    <tr>\n",
       "      <th>2000-02-29</th>\n",
       "      <td>0.013966</td>\n",
       "    </tr>\n",
       "    <tr>\n",
       "      <th>2000-03-31</th>\n",
       "      <td>-0.009587</td>\n",
       "    </tr>\n",
       "    <tr>\n",
       "      <th>2000-04-30</th>\n",
       "      <td>0.037307</td>\n",
       "    </tr>\n",
       "    <tr>\n",
       "      <th>2000-05-31</th>\n",
       "      <td>0.006876</td>\n",
       "    </tr>\n",
       "    <tr>\n",
       "      <th>...</th>\n",
       "      <td>...</td>\n",
       "    </tr>\n",
       "    <tr>\n",
       "      <th>2024-12-31</th>\n",
       "      <td>0.032047</td>\n",
       "    </tr>\n",
       "    <tr>\n",
       "      <th>2025-01-31</th>\n",
       "      <td>-0.000895</td>\n",
       "    </tr>\n",
       "    <tr>\n",
       "      <th>2025-02-28</th>\n",
       "      <td>-0.009551</td>\n",
       "    </tr>\n",
       "    <tr>\n",
       "      <th>2025-03-31</th>\n",
       "      <td>-0.027505</td>\n",
       "    </tr>\n",
       "    <tr>\n",
       "      <th>2025-04-30</th>\n",
       "      <td>0.006394</td>\n",
       "    </tr>\n",
       "  </tbody>\n",
       "</table>\n",
       "<p>304 rows × 1 columns</p>\n",
       "</div>"
      ]
     },
     "execution_count": 3,
     "metadata": {},
     "output_type": "execute_result"
    }
   ],
   "execution_count": 3
  },
  {
   "metadata": {
    "ExecuteTime": {
     "end_time": "2025-05-16T11:12:27.544094Z",
     "start_time": "2025-05-16T11:11:27.892764Z"
    }
   },
   "cell_type": "code",
   "source": [
    "from database.insert import *\n",
    "from database.models import *\n",
    "from database.functions import *\n",
    "from database.session import session\n",
    "from simulation.functions import *\n",
    "import pandas as pd\n",
    "import numpy as np\n",
    "import scipy\n",
    "\n",
    "\n",
    "\n",
    "base = 'CHF'\n",
    "\n",
    "\n",
    "portfolio_name = 'portfolio' + base\n",
    "x = get_portfolio_data(portfolio_name,base)\n",
    "\n",
    "dollar  = create_dollar_factor(base)\n",
    "carry = create_carry_factor(base)\n",
    "\n",
    "ols_simulation = xgboost(x[1],x[5],carry,dollar)\n",
    "\n",
    "hedge_ratios = ols_simulation[0]\n",
    "\n",
    "df = simulate_portfolio(x[0],x[1],x[2],x[3],x[4],hedge_ratio = hedge_ratios,fx_portfolio = False)\n",
    "\n",
    "plot_simulation(df)\n"
   ],
   "id": "62de695443a79f4f",
   "outputs": [
    {
     "name": "stdout",
     "output_type": "stream",
     "text": [
      "1/9\n",
      "2/9\n"
     ]
    },
    {
     "ename": "KeyboardInterrupt",
     "evalue": "",
     "output_type": "error",
     "traceback": [
      "\u001B[0;31m---------------------------------------------------------------------------\u001B[0m",
      "\u001B[0;31mKeyboardInterrupt\u001B[0m                         Traceback (most recent call last)",
      "Cell \u001B[0;32mIn[8], line 21\u001B[0m\n\u001B[1;32m     18\u001B[0m dollar  \u001B[38;5;241m=\u001B[39m create_dollar_factor(base)\n\u001B[1;32m     19\u001B[0m carry \u001B[38;5;241m=\u001B[39m create_carry_factor(base)\n\u001B[0;32m---> 21\u001B[0m ols_simulation \u001B[38;5;241m=\u001B[39m \u001B[43mxgboost\u001B[49m\u001B[43m(\u001B[49m\u001B[43mx\u001B[49m\u001B[43m[\u001B[49m\u001B[38;5;241;43m1\u001B[39;49m\u001B[43m]\u001B[49m\u001B[43m,\u001B[49m\u001B[43mx\u001B[49m\u001B[43m[\u001B[49m\u001B[38;5;241;43m5\u001B[39;49m\u001B[43m]\u001B[49m\u001B[43m,\u001B[49m\u001B[43mcarry\u001B[49m\u001B[43m,\u001B[49m\u001B[43mdollar\u001B[49m\u001B[43m)\u001B[49m\n\u001B[1;32m     23\u001B[0m hedge_ratios \u001B[38;5;241m=\u001B[39m ols_simulation[\u001B[38;5;241m0\u001B[39m]\n\u001B[1;32m     25\u001B[0m df \u001B[38;5;241m=\u001B[39m simulate_portfolio(x[\u001B[38;5;241m0\u001B[39m],x[\u001B[38;5;241m1\u001B[39m],x[\u001B[38;5;241m2\u001B[39m],x[\u001B[38;5;241m3\u001B[39m],x[\u001B[38;5;241m4\u001B[39m],hedge_ratio \u001B[38;5;241m=\u001B[39m hedge_ratios,fx_portfolio \u001B[38;5;241m=\u001B[39m \u001B[38;5;28;01mFalse\u001B[39;00m)\n",
      "File \u001B[0;32m~/PycharmProjects/Bachelor/simulation/functions/hedging/xgboost.py:53\u001B[0m, in \u001B[0;36mxgboost\u001B[0;34m(cur_list, df_fwd, carry_factor_df, dollar_factor_df, window)\u001B[0m\n\u001B[1;32m      0\u001B[0m <Error retrieving source code with stack_data see ipython/ipython#13598>\n",
      "File \u001B[0;32m/Library/Frameworks/Python.framework/Versions/3.11/lib/python3.11/site-packages/xgboost/core.py:729\u001B[0m, in \u001B[0;36mrequire_keyword_args.<locals>.throw_if.<locals>.inner_f\u001B[0;34m(*args, **kwargs)\u001B[0m\n\u001B[1;32m    727\u001B[0m \u001B[38;5;28;01mfor\u001B[39;00m k, arg \u001B[38;5;129;01min\u001B[39;00m \u001B[38;5;28mzip\u001B[39m(sig\u001B[38;5;241m.\u001B[39mparameters, args):\n\u001B[1;32m    728\u001B[0m     kwargs[k] \u001B[38;5;241m=\u001B[39m arg\n\u001B[0;32m--> 729\u001B[0m \u001B[38;5;28;01mreturn\u001B[39;00m \u001B[43mfunc\u001B[49m\u001B[43m(\u001B[49m\u001B[38;5;241;43m*\u001B[39;49m\u001B[38;5;241;43m*\u001B[39;49m\u001B[43mkwargs\u001B[49m\u001B[43m)\u001B[49m\n",
      "File \u001B[0;32m/Library/Frameworks/Python.framework/Versions/3.11/lib/python3.11/site-packages/xgboost/sklearn.py:1247\u001B[0m, in \u001B[0;36mXGBModel.fit\u001B[0;34m(self, X, y, sample_weight, base_margin, eval_set, verbose, xgb_model, sample_weight_eval_set, base_margin_eval_set, feature_weights)\u001B[0m\n\u001B[1;32m   1244\u001B[0m \u001B[38;5;28;01melse\u001B[39;00m:\n\u001B[1;32m   1245\u001B[0m     obj \u001B[38;5;241m=\u001B[39m \u001B[38;5;28;01mNone\u001B[39;00m\n\u001B[0;32m-> 1247\u001B[0m \u001B[38;5;28mself\u001B[39m\u001B[38;5;241m.\u001B[39m_Booster \u001B[38;5;241m=\u001B[39m \u001B[43mtrain\u001B[49m\u001B[43m(\u001B[49m\n\u001B[1;32m   1248\u001B[0m \u001B[43m    \u001B[49m\u001B[43mparams\u001B[49m\u001B[43m,\u001B[49m\n\u001B[1;32m   1249\u001B[0m \u001B[43m    \u001B[49m\u001B[43mtrain_dmatrix\u001B[49m\u001B[43m,\u001B[49m\n\u001B[1;32m   1250\u001B[0m \u001B[43m    \u001B[49m\u001B[38;5;28;43mself\u001B[39;49m\u001B[38;5;241;43m.\u001B[39;49m\u001B[43mget_num_boosting_rounds\u001B[49m\u001B[43m(\u001B[49m\u001B[43m)\u001B[49m\u001B[43m,\u001B[49m\n\u001B[1;32m   1251\u001B[0m \u001B[43m    \u001B[49m\u001B[43mevals\u001B[49m\u001B[38;5;241;43m=\u001B[39;49m\u001B[43mevals\u001B[49m\u001B[43m,\u001B[49m\n\u001B[1;32m   1252\u001B[0m \u001B[43m    \u001B[49m\u001B[43mearly_stopping_rounds\u001B[49m\u001B[38;5;241;43m=\u001B[39;49m\u001B[38;5;28;43mself\u001B[39;49m\u001B[38;5;241;43m.\u001B[39;49m\u001B[43mearly_stopping_rounds\u001B[49m\u001B[43m,\u001B[49m\n\u001B[1;32m   1253\u001B[0m \u001B[43m    \u001B[49m\u001B[43mevals_result\u001B[49m\u001B[38;5;241;43m=\u001B[39;49m\u001B[43mevals_result\u001B[49m\u001B[43m,\u001B[49m\n\u001B[1;32m   1254\u001B[0m \u001B[43m    \u001B[49m\u001B[43mobj\u001B[49m\u001B[38;5;241;43m=\u001B[39;49m\u001B[43mobj\u001B[49m\u001B[43m,\u001B[49m\n\u001B[1;32m   1255\u001B[0m \u001B[43m    \u001B[49m\u001B[43mcustom_metric\u001B[49m\u001B[38;5;241;43m=\u001B[39;49m\u001B[43mmetric\u001B[49m\u001B[43m,\u001B[49m\n\u001B[1;32m   1256\u001B[0m \u001B[43m    \u001B[49m\u001B[43mverbose_eval\u001B[49m\u001B[38;5;241;43m=\u001B[39;49m\u001B[43mverbose\u001B[49m\u001B[43m,\u001B[49m\n\u001B[1;32m   1257\u001B[0m \u001B[43m    \u001B[49m\u001B[43mxgb_model\u001B[49m\u001B[38;5;241;43m=\u001B[39;49m\u001B[43mmodel\u001B[49m\u001B[43m,\u001B[49m\n\u001B[1;32m   1258\u001B[0m \u001B[43m    \u001B[49m\u001B[43mcallbacks\u001B[49m\u001B[38;5;241;43m=\u001B[39;49m\u001B[38;5;28;43mself\u001B[39;49m\u001B[38;5;241;43m.\u001B[39;49m\u001B[43mcallbacks\u001B[49m\u001B[43m,\u001B[49m\n\u001B[1;32m   1259\u001B[0m \u001B[43m\u001B[49m\u001B[43m)\u001B[49m\n\u001B[1;32m   1261\u001B[0m \u001B[38;5;28mself\u001B[39m\u001B[38;5;241m.\u001B[39m_set_evaluation_result(evals_result)\n\u001B[1;32m   1262\u001B[0m \u001B[38;5;28;01mreturn\u001B[39;00m \u001B[38;5;28mself\u001B[39m\n",
      "File \u001B[0;32m/Library/Frameworks/Python.framework/Versions/3.11/lib/python3.11/site-packages/xgboost/core.py:729\u001B[0m, in \u001B[0;36mrequire_keyword_args.<locals>.throw_if.<locals>.inner_f\u001B[0;34m(*args, **kwargs)\u001B[0m\n\u001B[1;32m    727\u001B[0m \u001B[38;5;28;01mfor\u001B[39;00m k, arg \u001B[38;5;129;01min\u001B[39;00m \u001B[38;5;28mzip\u001B[39m(sig\u001B[38;5;241m.\u001B[39mparameters, args):\n\u001B[1;32m    728\u001B[0m     kwargs[k] \u001B[38;5;241m=\u001B[39m arg\n\u001B[0;32m--> 729\u001B[0m \u001B[38;5;28;01mreturn\u001B[39;00m \u001B[43mfunc\u001B[49m\u001B[43m(\u001B[49m\u001B[38;5;241;43m*\u001B[39;49m\u001B[38;5;241;43m*\u001B[39;49m\u001B[43mkwargs\u001B[49m\u001B[43m)\u001B[49m\n",
      "File \u001B[0;32m/Library/Frameworks/Python.framework/Versions/3.11/lib/python3.11/site-packages/xgboost/training.py:183\u001B[0m, in \u001B[0;36mtrain\u001B[0;34m(params, dtrain, num_boost_round, evals, obj, maximize, early_stopping_rounds, evals_result, verbose_eval, xgb_model, callbacks, custom_metric)\u001B[0m\n\u001B[1;32m    181\u001B[0m \u001B[38;5;28;01mif\u001B[39;00m cb_container\u001B[38;5;241m.\u001B[39mbefore_iteration(bst, i, dtrain, evals):\n\u001B[1;32m    182\u001B[0m     \u001B[38;5;28;01mbreak\u001B[39;00m\n\u001B[0;32m--> 183\u001B[0m \u001B[43mbst\u001B[49m\u001B[38;5;241;43m.\u001B[39;49m\u001B[43mupdate\u001B[49m\u001B[43m(\u001B[49m\u001B[43mdtrain\u001B[49m\u001B[43m,\u001B[49m\u001B[43m \u001B[49m\u001B[43miteration\u001B[49m\u001B[38;5;241;43m=\u001B[39;49m\u001B[43mi\u001B[49m\u001B[43m,\u001B[49m\u001B[43m \u001B[49m\u001B[43mfobj\u001B[49m\u001B[38;5;241;43m=\u001B[39;49m\u001B[43mobj\u001B[49m\u001B[43m)\u001B[49m\n\u001B[1;32m    184\u001B[0m \u001B[38;5;28;01mif\u001B[39;00m cb_container\u001B[38;5;241m.\u001B[39mafter_iteration(bst, i, dtrain, evals):\n\u001B[1;32m    185\u001B[0m     \u001B[38;5;28;01mbreak\u001B[39;00m\n",
      "File \u001B[0;32m/Library/Frameworks/Python.framework/Versions/3.11/lib/python3.11/site-packages/xgboost/core.py:2247\u001B[0m, in \u001B[0;36mBooster.update\u001B[0;34m(self, dtrain, iteration, fobj)\u001B[0m\n\u001B[1;32m   2243\u001B[0m \u001B[38;5;28mself\u001B[39m\u001B[38;5;241m.\u001B[39m_assign_dmatrix_features(dtrain)\n\u001B[1;32m   2245\u001B[0m \u001B[38;5;28;01mif\u001B[39;00m fobj \u001B[38;5;129;01mis\u001B[39;00m \u001B[38;5;28;01mNone\u001B[39;00m:\n\u001B[1;32m   2246\u001B[0m     _check_call(\n\u001B[0;32m-> 2247\u001B[0m         \u001B[43m_LIB\u001B[49m\u001B[38;5;241;43m.\u001B[39;49m\u001B[43mXGBoosterUpdateOneIter\u001B[49m\u001B[43m(\u001B[49m\n\u001B[1;32m   2248\u001B[0m \u001B[43m            \u001B[49m\u001B[38;5;28;43mself\u001B[39;49m\u001B[38;5;241;43m.\u001B[39;49m\u001B[43mhandle\u001B[49m\u001B[43m,\u001B[49m\u001B[43m \u001B[49m\u001B[43mctypes\u001B[49m\u001B[38;5;241;43m.\u001B[39;49m\u001B[43mc_int\u001B[49m\u001B[43m(\u001B[49m\u001B[43miteration\u001B[49m\u001B[43m)\u001B[49m\u001B[43m,\u001B[49m\u001B[43m \u001B[49m\u001B[43mdtrain\u001B[49m\u001B[38;5;241;43m.\u001B[39;49m\u001B[43mhandle\u001B[49m\n\u001B[1;32m   2249\u001B[0m \u001B[43m        \u001B[49m\u001B[43m)\u001B[49m\n\u001B[1;32m   2250\u001B[0m     )\n\u001B[1;32m   2251\u001B[0m \u001B[38;5;28;01melse\u001B[39;00m:\n\u001B[1;32m   2252\u001B[0m     pred \u001B[38;5;241m=\u001B[39m \u001B[38;5;28mself\u001B[39m\u001B[38;5;241m.\u001B[39mpredict(dtrain, output_margin\u001B[38;5;241m=\u001B[39m\u001B[38;5;28;01mTrue\u001B[39;00m, training\u001B[38;5;241m=\u001B[39m\u001B[38;5;28;01mTrue\u001B[39;00m)\n",
      "\u001B[0;31mKeyboardInterrupt\u001B[0m: "
     ]
    }
   ],
   "execution_count": 8
  },
  {
   "metadata": {
    "ExecuteTime": {
     "end_time": "2025-05-15T21:40:21.623863Z",
     "start_time": "2025-05-15T21:40:21.504163Z"
    }
   },
   "cell_type": "code",
   "source": [
    "\n",
    "expected = ols_simulation[1]\n",
    "actual = x[5].shift(-1)\n",
    "\n",
    "\n",
    "\n",
    "expected = expected['USD'].rename('expected')\n",
    "actual = actual['USD'].rename('actual')\n",
    "\n",
    "new = pd.concat([expected,actual],axis=1, join=\"inner\")\n",
    "\n",
    "\n",
    "new = new.dropna()\n",
    "import numpy as np\n",
    "import pandas as pd\n",
    "import matplotlib.pyplot as plt\n",
    "from sklearn.metrics import mean_squared_error\n",
    "\n",
    "def evaluate_model(df, expected_col='expected', actual_col='actual'):\n",
    "    # 1. Trefferquote: Wie oft stimmen die Vorzeichen überein?\n",
    "    correct_sign = ((df[expected_col] > 0) & (df[actual_col] > 0)) | \\\n",
    "                   ((df[expected_col] < 0) & (df[actual_col] < 0))\n",
    "    hit_ratio = correct_sign.mean()\n",
    "\n",
    "    # 2. Korrelation\n",
    "    correlation = df[[expected_col, actual_col]].corr().iloc[0, 1]\n",
    "\n",
    "    # 3. RMSE (Root Mean Squared Error)\n",
    "    rmse = np.sqrt(mean_squared_error(df[actual_col], df[expected_col]))\n",
    "\n",
    "    # 4. Visualisierung\n",
    "    plt.figure(figsize=(7, 5))\n",
    "    plt.scatter(df[expected_col], df[actual_col], alpha=0.7)\n",
    "    plt.axhline(0, color='gray', linestyle='--')\n",
    "    plt.axvline(0, color='gray', linestyle='--')\n",
    "    plt.xlabel('Expected')\n",
    "    plt.ylabel('Actual')\n",
    "    plt.title('Vorhersage vs. Realität')\n",
    "    plt.grid(True)\n",
    "    plt.tight_layout()\n",
    "    plt.show()\n",
    "\n",
    "    # 5. Ausgabe der Metriken\n",
    "    print(f\"Trefferquote (Sign Match): {hit_ratio:.2%}\")\n",
    "    print(f\"Korrelation: {correlation:.3f}\")\n",
    "    print(f\"RMSE: {rmse:.4f}\")\n",
    "\n",
    "\n",
    "\n",
    "evaluate_model(new)\n",
    "# Beispielaufruf:\n",
    "# evaluate_model(new)  # falls dein DataFrame \"new\" heißt\n",
    "\n",
    "print(new)\n"
   ],
   "id": "bc406071c3b07e6a",
   "outputs": [
    {
     "data": {
      "text/plain": [
       "<Figure size 700x500 with 1 Axes>"
      ],
      "image/png": "[encoded data removed]"
     },
     "metadata": {},
     "output_type": "display_data"
    },
    {
     "name": "stdout",
     "output_type": "stream",
     "text": [
      "Trefferquote (Sign Match): 49.38%\n",
      "Korrelation: -0.002\n",
      "RMSE: 0.0349\n",
      "            expected    actual\n",
      "2005-01-31  0.050771  0.022167\n",
      "2005-02-28  0.009143 -0.031594\n",
      "2005-03-31  0.023228 -0.001084\n",
      "2005-04-30  0.041838 -0.044661\n",
      "2005-05-31 -0.003221 -0.029110\n",
      "...              ...       ...\n",
      "2024-11-30 -0.002986 -0.033214\n",
      "2024-12-31 -0.002940 -0.007617\n",
      "2025-01-31 -0.006415  0.005238\n",
      "2025-02-28  0.012737  0.017790\n",
      "2025-03-31  0.026270  0.024389\n",
      "\n",
      "[243 rows x 2 columns]\n"
     ]
    }
   ],
   "execution_count": 6
  },
  {
   "metadata": {
    "ExecuteTime": {
     "end_time": "2025-05-14T19:41:34.769702Z",
     "start_time": "2025-05-14T19:41:31.576427Z"
    }
   },
   "cell_type": "code",
   "source": [
    "from database.models import *\n",
    "from database.session import session\n",
    "from database.functions import *\n",
    "import pandas as pd\n",
    "import numpy as np\n",
    "\n",
    "\n",
    "def create_carry_factor(base_currency='CHF'):\n",
    "    \"\"\"\n",
    "    Constructs a time series of the global carry factor from the perspective of a given base currency.\n",
    "\n",
    "\n",
    "\n",
    "    Parameters:\n",
    "    -----------\n",
    "    base_currency : str\n",
    "        The investor's home currency (default is 'CHF').\n",
    "\n",
    "    Returns:\n",
    "    --------\n",
    "    carry_df : pd.DataFrame\n",
    "        A DataFrame with monthly dates as index and a single column 'carry_factor' containing the\n",
    "        carry factor return at each time step.\n",
    "    \"\"\"\n",
    "\n",
    "    # G10 currencies (excluding base_currency)\n",
    "    g10 = ['EUR', 'JPY', 'CHF', 'GBP', 'AUD', 'CAD', 'NZD', 'NOK', 'SEK', 'USD']\n",
    "    g10 = [curr for curr in g10 if curr != base_currency]\n",
    "\n",
    "    spot_data = {}\n",
    "    fwd_data = {}\n",
    "\n",
    "    # 1. Load and resample spot and forward rates relative to the base currency\n",
    "    for quote in g10:\n",
    "        spot = get_fx(base_currency, quote, duration='Spot').resample('M').last()\n",
    "        fwd = get_fx(base_currency, quote, duration='1M').resample('M').last()\n",
    "\n",
    "        spot_data[quote] = spot['rate']\n",
    "        fwd_data[quote] = fwd['rate']\n",
    "\n",
    "    # Combine into DataFrames\n",
    "    spot_df = pd.concat(spot_data, axis=1)\n",
    "    fwd_df = pd.concat(fwd_data, axis=1)\n",
    "\n",
    "    # 2. Calculate carry premium = (Spot - Forward) / Spot\n",
    "    forward_logreturn = np.log(fwd_df.shift(1)/spot_df)\n",
    "    spot_logreturn = np.log(spot_df / spot_df.shift(1))\n",
    "\n",
    "    carry = pd.DataFrame()\n",
    "\n",
    "    for date , row in forward_logreturn.iterrows(): # date ist der index und row ist Pandas Series-Objekt\n",
    "\n",
    "        # Drop NaNs (falls vorhanden)\n",
    "        row_clean = row.dropna()\n",
    "\n",
    "\n",
    "        # Sortiere absteigend\n",
    "        sorted_row = row_clean.sort_values(ascending=False)\n",
    "\n",
    "        # Nimm die Top 3 und Bottom 3\n",
    "        top3 = list(sorted_row.head(3).index)\n",
    "        bottom3 = list(sorted_row.tail(3).index)\n",
    "\n",
    "        top3_avg = spot_logreturn.loc[date, top3].mean()\n",
    "        bottom3_avg = spot_logreturn.loc[date, bottom3].mean()\n",
    "        carry_factor = top3_avg - bottom3_avg\n",
    "        carry.at[date, 'carry_factor'] = carry_factor\n",
    "\n",
    "    return carry\n",
    "\n",
    "\n",
    "\n",
    "\n",
    "\n",
    "\n",
    "\n",
    "\n",
    "\n",
    "\n",
    "\n",
    "    return None\n",
    "\n",
    "x = create_carry_factor('CHF')\n",
    "print(x)\n"
   ],
   "id": "7a02090693a2089a",
   "outputs": [
    {
     "name": "stdout",
     "output_type": "stream",
     "text": [
      "            carry_factor\n",
      "1999-12-31           NaN\n",
      "2000-01-31     -0.035583\n",
      "2000-02-29     -0.025926\n",
      "2000-03-31     -0.044782\n",
      "2000-04-30     -0.038222\n",
      "...                  ...\n",
      "2024-12-31     -0.041991\n",
      "2025-01-31     -0.015190\n",
      "2025-02-28     -0.027065\n",
      "2025-03-31     -0.052607\n",
      "2025-04-30     -0.046866\n",
      "\n",
      "[305 rows x 1 columns]\n"
     ]
    }
   ],
   "execution_count": 35
  },
  {
   "metadata": {
    "ExecuteTime": {
     "end_time": "2025-05-16T16:11:36.335006Z",
     "start_time": "2025-05-16T16:11:36.081528Z"
    }
   },
   "cell_type": "code",
   "source": [
    "from database.functions import *\n",
    "\n",
    "df = create_volatility_factor('CHF','USD')\n",
    "\n",
    "\n",
    "\n",
    "\n",
    "\n",
    "print(df)"
   ],
   "id": "7c2a8e74e7f393e7",
   "outputs": [
    {
     "name": "stdout",
     "output_type": "stream",
     "text": [
      "            volatilityUSDCHF\n",
      "date                        \n",
      "1999-12-31               NaN\n",
      "2000-01-03               NaN\n",
      "2000-01-04               NaN\n",
      "2000-01-05               NaN\n",
      "2000-01-06               NaN\n",
      "...                      ...\n",
      "2025-04-01               1.0\n",
      "2025-04-02               1.0\n",
      "2025-04-03               1.0\n",
      "2025-04-04               1.0\n",
      "2025-04-07               NaN\n",
      "\n",
      "[6592 rows x 1 columns]\n"
     ]
    }
   ],
   "execution_count": 22
  },
  {
   "metadata": {
    "ExecuteTime": {
     "end_time": "2025-05-21T12:53:40.434576Z",
     "start_time": "2025-05-21T12:53:40.422917Z"
    }
   },
   "cell_type": "code",
   "source": [
    "    g10 = ['EUR', 'JPY', 'CHF', 'GBP', 'AUD', 'CAD', 'NZD', 'NOK', 'SEK', 'USD']\n",
    "    g10 = [curr for curr in g10 if curr != 'USD']\n",
    "\n",
    "    weights = [1/len(g10) for currncy in g10]\n",
    "    weights"
   ],
   "id": "cd80b2aa23672c8f",
   "outputs": [
    {
     "data": {
      "text/plain": [
       "[0.1111111111111111,\n",
       " 0.1111111111111111,\n",
       " 0.1111111111111111,\n",
       " 0.1111111111111111,\n",
       " 0.1111111111111111,\n",
       " 0.1111111111111111,\n",
       " 0.1111111111111111,\n",
       " 0.1111111111111111,\n",
       " 0.1111111111111111]"
      ]
     },
     "execution_count": 5,
     "metadata": {},
     "output_type": "execute_result"
    }
   ],
   "execution_count": 5
  }
 ],
 "metadata": {
  "kernelspec": {
   "display_name": "Python 3",
   "language": "python",
   "name": "python3"
  },
  "language_info": {
   "codemirror_mode": {
    "name": "ipython",
    "version": 2
   },
   "file_extension": ".py",
   "mimetype": "text/x-python",
   "name": "python",
   "nbconvert_exporter": "python",
   "pygments_lexer": "ipython2",
   "version": "2.7.6"
  }
 },
 "nbformat": 4,
 "nbformat_minor": 5
}
