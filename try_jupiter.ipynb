{
 "cells": [
  {
   "cell_type": "code",
   "id": "initial_id",
   "metadata": {
    "collapsed": true,
    "ExecuteTime": {
     "end_time": "2025-05-14T07:43:44.841253Z",
     "start_time": "2025-05-14T07:43:44.805599Z"
    }
   },
   "source": [
    "from database.functions import *\n",
    "from database.session import session\n",
    "import pandas as pd\n",
    "import numpy as np"
   ],
   "outputs": [],
   "execution_count": 9
  },
  {
   "metadata": {
    "ExecuteTime": {
     "end_time": "2025-05-14T07:47:07.378096Z",
     "start_time": "2025-05-14T07:47:04.009790Z"
    }
   },
   "cell_type": "code",
   "source": [
    "g10 = ['EUR', 'JPY',  'GBP', 'AUD', 'CAD', 'NZD', 'NOK', 'SEK','USD']\n",
    "\n",
    "df = pd.DataFrame()\n",
    "for cur in g10:\n",
    "    spotrate = get_fx(cur,'CHF','Spot')\n",
    "    fwdrate = get_fx(cur,'CHF','1M')\n",
    "\n",
    "    df[cur+'CHFspot'] = spotrate\n",
    "    df[cur+'CHFforward'] = fwdrate\n",
    "\n",
    "\n",
    "print(df.head())\n"
   ],
   "id": "62de695443a79f4f",
   "outputs": [
    {
     "name": "stdout",
     "output_type": "stream",
     "text": [
      "            EURCHFspot  EURCHFforward  JPYCHFspot  JPYCHFforward  GBPCHFspot  \\\n",
      "date                                                                           \n",
      "1999-12-31    1.594511       1.591984    0.015555       0.015415         NaN   \n",
      "2000-01-03    1.588692       1.586424    0.015403       0.015265         NaN   \n",
      "2000-01-04    1.602417       1.599846    0.015063       0.014930         NaN   \n",
      "2000-01-05    1.607401       1.604961    0.014910       0.014776         NaN   \n",
      "2000-01-06    1.607816       1.605412    0.014751       0.014618         NaN   \n",
      "\n",
      "            GBPCHFforward  AUDCHFspot  AUDCHFforward  CADCHFspot  \\\n",
      "date                                                               \n",
      "1999-12-31            NaN    1.039110       1.035603    1.100069   \n",
      "2000-01-03            NaN    1.029082       1.025560    1.081674   \n",
      "2000-01-04            NaN    1.024529       1.021064    1.071210   \n",
      "2000-01-05            NaN    1.023201       1.019852    1.072784   \n",
      "2000-01-06            NaN    1.019791       1.016469    1.064474   \n",
      "\n",
      "            CADCHFforward  NZDCHFspot  NZDCHFforward  NOKCHFspot  \\\n",
      "date                                                               \n",
      "1999-12-31       1.096592    0.828287       0.825565    0.197917   \n",
      "2000-01-03       1.078316    0.816684       0.813978    0.196725   \n",
      "2000-01-04       1.067847    0.817926       0.815212    0.196140   \n",
      "2000-01-05       1.069527    0.808405       0.805824    0.195957   \n",
      "2000-01-06       1.061272    0.803987       0.801419    0.196001   \n",
      "\n",
      "            NOKCHFforward  SEKCHFspot  SEKCHFforward  USDCHFspot  \\\n",
      "date                                                               \n",
      "1999-12-31       0.197161    0.186199       0.185858     1.59070   \n",
      "2000-01-03       0.195982    0.185397       0.185067     1.56475   \n",
      "2000-01-04       0.195398    0.185992       0.185653     1.55545   \n",
      "2000-01-05       0.195237    0.186183       0.185852     1.55500   \n",
      "2000-01-06       0.195279    0.186038       0.185717     1.55360   \n",
      "\n",
      "            USDCHFforward  \n",
      "date                       \n",
      "1999-12-31       1.584520  \n",
      "2000-01-03       1.558625  \n",
      "2000-01-04       1.549420  \n",
      "2000-01-05       1.549140  \n",
      "2000-01-06       1.547785  \n"
     ]
    }
   ],
   "execution_count": 10
  },
  {
   "metadata": {
    "ExecuteTime": {
     "end_time": "2025-05-14T07:48:29.061648Z",
     "start_time": "2025-05-14T07:48:27.941050Z"
    }
   },
   "cell_type": "code",
   "source": "df.to_excel('rahcgchgcghtes.xlsx')",
   "id": "bc406071c3b07e6a",
   "outputs": [],
   "execution_count": 13
  },
  {
   "metadata": {
    "ExecuteTime": {
     "end_time": "2025-05-12T12:01:55.845300Z",
     "start_time": "2025-05-12T12:01:52.598944Z"
    }
   },
   "cell_type": "code",
   "source": "",
   "id": "7a02090693a2089a",
   "outputs": [
    {
     "data": {
      "text/plain": [
       "            carry_factor\n",
       "date                    \n",
       "2000-01-31           NaN\n",
       "2000-02-29     -0.008168\n",
       "2000-03-31     -0.008378\n",
       "2000-04-30      0.027577\n",
       "2000-05-31      0.010993\n",
       "...                  ...\n",
       "2024-12-31      0.018400\n",
       "2025-01-31     -0.011602\n",
       "2025-02-28      0.004912\n",
       "2025-03-31      0.003462\n",
       "2025-04-30     -0.026223\n",
       "\n",
       "[304 rows x 1 columns]"
      ],
      "text/html": [
       "<div>\n",
       "<style scoped>\n",
       "    .dataframe tbody tr th:only-of-type {\n",
       "        vertical-align: middle;\n",
       "    }\n",
       "\n",
       "    .dataframe tbody tr th {\n",
       "        vertical-align: top;\n",
       "    }\n",
       "\n",
       "    .dataframe thead th {\n",
       "        text-align: right;\n",
       "    }\n",
       "</style>\n",
       "<table border=\"1\" class=\"dataframe\">\n",
       "  <thead>\n",
       "    <tr style=\"text-align: right;\">\n",
       "      <th></th>\n",
       "      <th>carry_factor</th>\n",
       "    </tr>\n",
       "    <tr>\n",
       "      <th>date</th>\n",
       "      <th></th>\n",
       "    </tr>\n",
       "  </thead>\n",
       "  <tbody>\n",
       "    <tr>\n",
       "      <th>2000-01-31</th>\n",
       "      <td>NaN</td>\n",
       "    </tr>\n",
       "    <tr>\n",
       "      <th>2000-02-29</th>\n",
       "      <td>-0.008168</td>\n",
       "    </tr>\n",
       "    <tr>\n",
       "      <th>2000-03-31</th>\n",
       "      <td>-0.008378</td>\n",
       "    </tr>\n",
       "    <tr>\n",
       "      <th>2000-04-30</th>\n",
       "      <td>0.027577</td>\n",
       "    </tr>\n",
       "    <tr>\n",
       "      <th>2000-05-31</th>\n",
       "      <td>0.010993</td>\n",
       "    </tr>\n",
       "    <tr>\n",
       "      <th>...</th>\n",
       "      <td>...</td>\n",
       "    </tr>\n",
       "    <tr>\n",
       "      <th>2024-12-31</th>\n",
       "      <td>0.018400</td>\n",
       "    </tr>\n",
       "    <tr>\n",
       "      <th>2025-01-31</th>\n",
       "      <td>-0.011602</td>\n",
       "    </tr>\n",
       "    <tr>\n",
       "      <th>2025-02-28</th>\n",
       "      <td>0.004912</td>\n",
       "    </tr>\n",
       "    <tr>\n",
       "      <th>2025-03-31</th>\n",
       "      <td>0.003462</td>\n",
       "    </tr>\n",
       "    <tr>\n",
       "      <th>2025-04-30</th>\n",
       "      <td>-0.026223</td>\n",
       "    </tr>\n",
       "  </tbody>\n",
       "</table>\n",
       "<p>304 rows × 1 columns</p>\n",
       "</div>"
      ]
     },
     "execution_count": 8,
     "metadata": {},
     "output_type": "execute_result"
    }
   ],
   "execution_count": 8
  }
 ],
 "metadata": {
  "kernelspec": {
   "display_name": "Python 3",
   "language": "python",
   "name": "python3"
  },
  "language_info": {
   "codemirror_mode": {
    "name": "ipython",
    "version": 2
   },
   "file_extension": ".py",
   "mimetype": "text/x-python",
   "name": "python",
   "nbconvert_exporter": "python",
   "pygments_lexer": "ipython2",
   "version": "2.7.6"
  }
 },
 "nbformat": 4,
 "nbformat_minor": 5
}
